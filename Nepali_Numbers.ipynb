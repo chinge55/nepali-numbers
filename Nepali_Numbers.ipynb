{
  "nbformat": 4,
  "nbformat_minor": 0,
  "metadata": {
    "colab": {
      "name": "Nepali-Numbers.ipynb",
      "provenance": [],
      "collapsed_sections": []
    },
    "kernelspec": {
      "name": "python3",
      "display_name": "Python 3"
    },
    "accelerator": "GPU"
  },
  "cells": [
    {
      "cell_type": "code",
      "metadata": {
        "id": "u9wCBuEt1qlY",
        "colab_type": "code",
        "outputId": "2b3cdfca-d7eb-43c8-d1dd-a1d38c260f9f",
        "colab": {
          "base_uri": "https://localhost:8080/",
          "height": 134
        }
      },
      "source": [
        "!git clone https://github.com/chinge55/nepali-numbers"
      ],
      "execution_count": 1,
      "outputs": [
        {
          "output_type": "stream",
          "text": [
            "Cloning into 'nepali-numbers'...\n",
            "remote: Enumerating objects: 344, done.\u001b[K\n",
            "remote: Counting objects:   0% (1/344)\u001b[K\rremote: Counting objects:   1% (4/344)\u001b[K\rremote: Counting objects:   2% (7/344)\u001b[K\rremote: Counting objects:   3% (11/344)\u001b[K\rremote: Counting objects:   4% (14/344)\u001b[K\rremote: Counting objects:   5% (18/344)\u001b[K\rremote: Counting objects:   6% (21/344)\u001b[K\rremote: Counting objects:   7% (25/344)\u001b[K\rremote: Counting objects:   8% (28/344)\u001b[K\rremote: Counting objects:   9% (31/344)\u001b[K\rremote: Counting objects:  10% (35/344)\u001b[K\rremote: Counting objects:  11% (38/344)\u001b[K\rremote: Counting objects:  12% (42/344)\u001b[K\rremote: Counting objects:  13% (45/344)\u001b[K\rremote: Counting objects:  14% (49/344)\u001b[K\rremote: Counting objects:  15% (52/344)\u001b[K\rremote: Counting objects:  16% (56/344)\u001b[K\rremote: Counting objects:  17% (59/344)\u001b[K\rremote: Counting objects:  18% (62/344)\u001b[K\rremote: Counting objects:  19% (66/344)\u001b[K\rremote: Counting objects:  20% (69/344)\u001b[K\rremote: Counting objects:  21% (73/344)\u001b[K\rremote: Counting objects:  22% (76/344)\u001b[K\rremote: Counting objects:  23% (80/344)\u001b[K\rremote: Counting objects:  24% (83/344)\u001b[K\rremote: Counting objects:  25% (86/344)\u001b[K\rremote: Counting objects:  26% (90/344)\u001b[K\rremote: Counting objects:  27% (93/344)\u001b[K\rremote: Counting objects:  28% (97/344)\u001b[K\rremote: Counting objects:  29% (100/344)\u001b[K\rremote: Counting objects:  30% (104/344)\u001b[K\rremote: Counting objects:  31% (107/344)\u001b[K\rremote: Counting objects:  32% (111/344)\u001b[K\rremote: Counting objects:  33% (114/344)\u001b[K\rremote: Counting objects:  34% (117/344)\u001b[K\rremote: Counting objects:  35% (121/344)\u001b[K\rremote: Counting objects:  36% (124/344)\u001b[K\rremote: Counting objects:  37% (128/344)\u001b[K\rremote: Counting objects:  38% (131/344)\u001b[K\rremote: Counting objects:  39% (135/344)\u001b[K\rremote: Counting objects:  40% (138/344)\u001b[K\rremote: Counting objects:  41% (142/344)\u001b[K\rremote: Counting objects:  42% (145/344)\u001b[K\rremote: Counting objects:  43% (148/344)\u001b[K\rremote: Counting objects:  44% (152/344)\u001b[K\rremote: Counting objects:  45% (155/344)\u001b[K\rremote: Counting objects:  46% (159/344)\u001b[K\rremote: Counting objects:  47% (162/344)\u001b[K\rremote: Counting objects:  48% (166/344)\u001b[K\rremote: Counting objects:  49% (169/344)\u001b[K\rremote: Counting objects:  50% (172/344)\u001b[K\rremote: Counting objects:  51% (176/344)\u001b[K\rremote: Counting objects:  52% (179/344)\u001b[K\rremote: Counting objects:  53% (183/344)\u001b[K\rremote: Counting objects:  54% (186/344)\u001b[K\rremote: Counting objects:  55% (190/344)\u001b[K\rremote: Counting objects:  56% (193/344)\u001b[K\rremote: Counting objects:  57% (197/344)\u001b[K\rremote: Counting objects:  58% (200/344)\u001b[K\rremote: Counting objects:  59% (203/344)\u001b[K\rremote: Counting objects:  60% (207/344)\u001b[K\rremote: Counting objects:  61% (210/344)\u001b[K\rremote: Counting objects:  62% (214/344)\u001b[K\rremote: Counting objects:  63% (217/344)\u001b[K\rremote: Counting objects:  64% (221/344)\u001b[K\rremote: Counting objects:  65% (224/344)\u001b[K\rremote: Counting objects:  66% (228/344)\u001b[K\rremote: Counting objects:  67% (231/344)\u001b[K\rremote: Counting objects:  68% (234/344)\u001b[K\rremote: Counting objects:  69% (238/344)\u001b[K\rremote: Counting objects:  70% (241/344)\u001b[K\rremote: Counting objects:  71% (245/344)\u001b[K\rremote: Counting objects:  72% (248/344)\u001b[K\rremote: Counting objects:  73% (252/344)\u001b[K\rremote: Counting objects:  74% (255/344)\u001b[K\rremote: Counting objects:  75% (258/344)\u001b[K\rremote: Counting objects:  76% (262/344)\u001b[K\rremote: Counting objects:  77% (265/344)\u001b[K\rremote: Counting objects:  78% (269/344)\u001b[K\rremote: Counting objects:  79% (272/344)\u001b[K\rremote: Counting objects:  80% (276/344)\u001b[K\rremote: Counting objects:  81% (279/344)\u001b[K\rremote: Counting objects:  82% (283/344)\u001b[K\rremote: Counting objects:  83% (286/344)\u001b[K\rremote: Counting objects:  84% (289/344)\u001b[K\rremote: Counting objects:  85% (293/344)\u001b[K\rremote: Counting objects:  86% (296/344)\u001b[K\rremote: Counting objects:  87% (300/344)\u001b[K\rremote: Counting objects:  88% (303/344)\u001b[K\rremote: Counting objects:  89% (307/344)\u001b[K\rremote: Counting objects:  90% (310/344)\u001b[K\rremote: Counting objects:  91% (314/344)\u001b[K\rremote: Counting objects:  92% (317/344)\u001b[K\rremote: Counting objects:  93% (320/344)\u001b[K\rremote: Counting objects:  94% (324/344)\u001b[K\rremote: Counting objects:  95% (327/344)\u001b[K\rremote: Counting objects:  96% (331/344)\u001b[K\rremote: Counting objects:  97% (334/344)\u001b[K\rremote: Counting objects:  98% (338/344)\u001b[K\rremote: Counting objects:  99% (341/344)\u001b[K\rremote: Counting objects: 100% (344/344)\u001b[K\rremote: Counting objects: 100% (344/344), done.\u001b[K\n",
            "remote: Compressing objects: 100% (338/338), done.\u001b[K\n",
            "remote: Total 344 (delta 7), reused 343 (delta 6), pack-reused 0\u001b[K\n",
            "Receiving objects: 100% (344/344), 39.43 MiB | 10.26 MiB/s, done.\n",
            "Resolving deltas: 100% (7/7), done.\n"
          ],
          "name": "stdout"
        }
      ]
    },
    {
      "cell_type": "code",
      "metadata": {
        "id": "LwadErT61039",
        "colab_type": "code",
        "outputId": "bb4e8f07-0ff7-49c7-b991-eeb9b9fae31d",
        "colab": {
          "base_uri": "https://localhost:8080/",
          "height": 34
        }
      },
      "source": [
        "!ls"
      ],
      "execution_count": 2,
      "outputs": [
        {
          "output_type": "stream",
          "text": [
            "nepali-numbers\tsample_data\n"
          ],
          "name": "stdout"
        }
      ]
    },
    {
      "cell_type": "code",
      "metadata": {
        "id": "D-Q6otSh2Us4",
        "colab_type": "code",
        "colab": {}
      },
      "source": [
        "import os\n",
        "import numpy as np\n",
        "path = 'nepali-numbers/data'\n",
        "import librosa\n",
        "samples, sample_rate = librosa.load(path+'/eight-2018-05-30T11_28_25.746Z.wav', sr = 16000, duration = 1.0)"
      ],
      "execution_count": 0,
      "outputs": []
    },
    {
      "cell_type": "code",
      "metadata": {
        "id": "vfEm6pr92tDw",
        "colab_type": "code",
        "outputId": "664dead9-1d74-4087-aa76-a2f51cadca6c",
        "colab": {
          "base_uri": "https://localhost:8080/",
          "height": 296
        }
      },
      "source": [
        "import matplotlib.pyplot as plt\n",
        "import librosa.display\n",
        "librosa.display.waveplot(samples, sr=sample_rate)\n"
      ],
      "execution_count": 4,
      "outputs": [
        {
          "output_type": "execute_result",
          "data": {
            "text/plain": [
              "<matplotlib.collections.PolyCollection at 0x7fbbfc6064a8>"
            ]
          },
          "metadata": {
            "tags": []
          },
          "execution_count": 4
        },
        {
          "output_type": "display_data",
          "data": {
            "image/png": "[encoded data removed]",
            "text/plain": [
              "<Figure size 432x288 with 1 Axes>"
            ]
          },
          "metadata": {
            "tags": [],
            "needs_background": "light"
          }
        }
      ]
    },
    {
      "cell_type": "code",
      "metadata": {
        "id": "bbxDODmlGoXu",
        "colab_type": "code",
        "outputId": "46ac81c8-6deb-4204-a972-669dabfc702b",
        "colab": {
          "base_uri": "https://localhost:8080/",
          "height": 75
        }
      },
      "source": [
        "import IPython.display as ipd\n",
        "ipd.Audio(samples, rate=sample_rate)"
      ],
      "execution_count": 5,
      "outputs": [
        {
          "output_type": "execute_result",
          "data": {
            "text/html": [
              "\n",
              "                <audio controls=\"controls\" >\n",
              "                    <source src=\"data:audio/wav;base64,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\" type=\"audio/wav\" />\n",
              "                    Your browser does not support the audio element.\n",
              "                </audio>\n",
              "              "
            ],
            "text/plain": [
              "<IPython.lib.display.Audio object>"
            ]
          },
          "metadata": {
            "tags": []
          },
          "execution_count": 5
        }
      ]
    },
    {
      "cell_type": "code",
      "metadata": {
        "id": "L0IeUQ4vGtdk",
        "colab_type": "code",
        "colab": {}
      },
      "source": [
        ""
      ],
      "execution_count": 0,
      "outputs": []
    },
    {
      "cell_type": "code",
      "metadata": {
        "id": "-rP8GQU4Gzf8",
        "colab_type": "code",
        "colab": {}
      },
      "source": [
        "#find count of each label and plot bar graph\n",
        "label = [\"zero\",\"one\", \"two\", \"three\", \"four\", \"five\", \"six\", \"seven\", \"eight\", \"nine\"]"
      ],
      "execution_count": 0,
      "outputs": []
    },
    {
      "cell_type": "code",
      "metadata": {
        "id": "-yqvtZOEG3iJ",
        "colab_type": "code",
        "outputId": "44931974-8209-4a48-cc04-9b080984c443",
        "colab": {
          "base_uri": "https://localhost:8080/",
          "height": 34
        }
      },
      "source": [
        "import numpy as np\n",
        "all_wave = []\n",
        "all_label = []\n",
        "no_of_recordings = {label[i]:0 for i in range(len(label))}\n",
        "for item in os.listdir(path):\n",
        "  for lb in label:\n",
        "    if item.startswith(lb):\n",
        "      samples, sample_rate = librosa.load(path + '/' +item, sr = 16000, duration = 1.0)\n",
        "      samples = librosa.resample(samples, sample_rate, 8000)\n",
        "      if(len(samples)== 8000) :\n",
        "        all_wave.append(samples)\n",
        "        all_label.append(lb)\n",
        "        no_of_recordings[lb] = no_of_recordings[lb] + 1\n",
        "      else:\n",
        "        samples = np.pad(samples, (0,8000-len(samples)), mode = 'median')\n",
        "        all_wave.append(samples)\n",
        "        all_label.append(lb)\n",
        "        no_of_recordings[lb] = no_of_recordings[lb] + 1\n",
        "\n",
        "print(no_of_recordings) "
      ],
      "execution_count": 7,
      "outputs": [
        {
          "output_type": "stream",
          "text": [
            "{'zero': 38, 'one': 37, 'two': 31, 'three': 34, 'four': 32, 'five': 32, 'six': 31, 'seven': 31, 'eight': 31, 'nine': 33}\n"
          ],
          "name": "stdout"
        }
      ]
    },
    {
      "cell_type": "code",
      "metadata": {
        "id": "tPfmMzXEG-Q9",
        "colab_type": "code",
        "outputId": "0e3cdb7e-8ca0-4ff0-d152-1efb680a19b6",
        "colab": {
          "base_uri": "https://localhost:8080/",
          "height": 222
        }
      },
      "source": [
        "from sklearn.preprocessing import LabelEncoder\n",
        "le = LabelEncoder()\n",
        "y= le.fit_transform(all_label)\n",
        "classes= list(le.classes_)\n",
        "print(all_label)\n",
        "print(classes)\n",
        "print(y)"
      ],
      "execution_count": 11,
      "outputs": [
        {
          "output_type": "stream",
          "text": [
            "['zero', 'eight', 'two', 'three', 'five', 'one', 'zero', 'four', 'six', 'two', 'three', 'six', 'three', 'zero', 'two', 'eight', 'zero', 'eight', 'zero', 'seven', 'zero', 'zero', 'zero', 'nine', 'one', 'zero', 'seven', 'six', 'zero', 'seven', 'nine', 'zero', 'seven', 'four', 'one', 'eight', 'six', 'five', 'five', 'six', 'nine', 'nine', 'zero', 'four', 'eight', 'four', 'two', 'zero', 'three', 'three', 'four', 'five', 'one', 'five', 'two', 'three', 'zero', 'one', 'five', 'nine', 'zero', 'five', 'two', 'three', 'six', 'six', 'three', 'seven', 'four', 'four', 'six', 'eight', 'eight', 'zero', 'seven', 'nine', 'four', 'two', 'four', 'zero', 'five', 'one', 'zero', 'zero', 'five', 'nine', 'four', 'four', 'five', 'five', 'nine', 'zero', 'seven', 'eight', 'one', 'two', 'six', 'seven', 'five', 'three', 'eight', 'one', 'one', 'nine', 'three', 'three', 'four', 'eight', 'six', 'four', 'three', 'eight', 'four', 'nine', 'two', 'one', 'zero', 'zero', 'five', 'four', 'one', 'three', 'five', 'seven', 'nine', 'seven', 'eight', 'seven', 'seven', 'eight', 'seven', 'five', 'two', 'three', 'five', 'one', 'one', 'nine', 'three', 'two', 'eight', 'four', 'three', 'seven', 'eight', 'four', 'six', 'nine', 'four', 'six', 'one', 'two', 'zero', 'six', 'one', 'eight', 'two', 'zero', 'eight', 'three', 'four', 'zero', 'five', 'five', 'two', 'one', 'one', 'nine', 'seven', 'four', 'one', 'one', 'nine', 'zero', 'six', 'zero', 'nine', 'one', 'two', 'five', 'eight', 'one', 'three', 'one', 'three', 'one', 'seven', 'seven', 'one', 'zero', 'nine', 'zero', 'one', 'eight', 'two', 'four', 'eight', 'one', 'six', 'seven', 'four', 'zero', 'eight', 'six', 'eight', 'six', 'four', 'five', 'six', 'nine', 'seven', 'nine', 'three', 'nine', 'three', 'zero', 'one', 'four', 'three', 'seven', 'six', 'seven', 'five', 'eight', 'eight', 'seven', 'five', 'six', 'two', 'zero', 'four', 'six', 'eight', 'zero', 'two', 'two', 'seven', 'five', 'eight', 'eight', 'zero', 'two', 'seven', 'six', 'five', 'one', 'seven', 'six', 'three', 'two', 'eight', 'four', 'one', 'two', 'nine', 'nine', 'nine', 'zero', 'five', 'four', 'two', 'two', 'five', 'zero', 'nine', 'five', 'one', 'nine', 'two', 'four', 'one', 'eight', 'three', 'seven', 'seven', 'five', 'one', 'two', 'two', 'nine', 'eight', 'six', 'three', 'nine', 'six', 'one', 'four', 'three', 'zero', 'six', 'five', 'six', 'three', 'three', 'three', 'four', 'one', 'two', 'two', 'nine', 'nine', 'nine', 'two', 'five', 'five', 'six', 'three', 'five', 'three', 'seven', 'one', 'four', 'four', 'one', 'seven', 'six', 'eight', 'seven', 'three', 'three', 'three', 'six', 'nine', 'nine', 'seven', 'six', 'zero', 'nine', 'one', 'two']\n",
            "['eight', 'five', 'four', 'nine', 'one', 'seven', 'six', 'three', 'two', 'zero']\n",
            "[9 0 8 7 1 4 9 2 6 8 7 6 7 9 8 0 9 0 9 5 9 9 9 3 4 9 5 6 9 5 3 9 5 2 4 0 6\n",
            " 1 1 6 3 3 9 2 0 2 8 9 7 7 2 1 4 1 8 7 9 4 1 3 9 1 8 7 6 6 7 5 2 2 6 0 0 9\n",
            " 5 3 2 8 2 9 1 4 9 9 1 3 2 2 1 1 3 9 5 0 4 8 6 5 1 7 0 4 4 3 7 7 2 0 6 2 7\n",
            " 0 2 3 8 4 9 9 1 2 4 7 1 5 3 5 0 5 5 0 5 1 8 7 1 4 4 3 7 8 0 2 7 5 0 2 6 3\n",
            " 2 6 4 8 9 6 4 0 8 9 0 7 2 9 1 1 8 4 4 3 5 2 4 4 3 9 6 9 3 4 8 1 0 4 7 4 7\n",
            " 4 5 5 4 9 3 9 4 0 8 2 0 4 6 5 2 9 0 6 0 6 2 1 6 3 5 3 7 3 7 9 4 2 7 5 6 5\n",
            " 1 0 0 5 1 6 8 9 2 6 0 9 8 8 5 1 0 0 9 8 5 6 1 4 5 6 7 8 0 2 4 8 3 3 3 9 1\n",
            " 2 8 8 1 9 3 1 4 3 8 2 4 0 7 5 5 1 4 8 8 3 0 6 7 3 6 4 2 7 9 6 1 6 7 7 7 2\n",
            " 4 8 8 3 3 3 8 1 1 6 7 1 7 5 4 2 2 4 5 6 0 5 7 7 7 6 3 3 5 6 9 3 4 8]\n"
          ],
          "name": "stdout"
        }
      ]
    },
    {
      "cell_type": "code",
      "metadata": {
        "id": "FJzRjexKHBIv",
        "colab_type": "code",
        "outputId": "874a1c42-6a75-4e76-cba2-f5a4be1f0cd4",
        "colab": {
          "base_uri": "https://localhost:8080/",
          "height": 134
        }
      },
      "source": [
        "from keras.utils import np_utils\n",
        "y=np_utils.to_categorical(y, num_classes=len(label))\n",
        "print(y)"
      ],
      "execution_count": 12,
      "outputs": [
        {
          "output_type": "stream",
          "text": [
            "[[0. 0. 0. ... 0. 0. 1.]\n",
            " [1. 0. 0. ... 0. 0. 0.]\n",
            " [0. 0. 0. ... 0. 1. 0.]\n",
            " ...\n",
            " [0. 0. 0. ... 0. 0. 0.]\n",
            " [0. 0. 0. ... 0. 0. 0.]\n",
            " [0. 0. 0. ... 0. 1. 0.]]\n"
          ],
          "name": "stdout"
        }
      ]
    },
    {
      "cell_type": "code",
      "metadata": {
        "id": "iHC-M3MuHdVR",
        "colab_type": "code",
        "outputId": "135f4f0b-239b-4248-ad3a-d1ee673c6d11",
        "colab": {
          "base_uri": "https://localhost:8080/",
          "height": 67
        }
      },
      "source": [
        "all_wave = np.array(all_wave).reshape(-1,8000,1)\n",
        "print(all_wave.shape)\n",
        "print(y.shape)\n",
        "print(np.array(all_label).shape)"
      ],
      "execution_count": 13,
      "outputs": [
        {
          "output_type": "stream",
          "text": [
            "(330, 8000, 1)\n",
            "(330, 10)\n",
            "(330,)\n"
          ],
          "name": "stdout"
        }
      ]
    },
    {
      "cell_type": "code",
      "metadata": {
        "id": "ilxOoWGlHff0",
        "colab_type": "code",
        "colab": {}
      },
      "source": [
        "from sklearn.model_selection import train_test_split\n",
        "x_tr, x_val, y_tr, y_val = train_test_split(np.array(all_wave),np.array(y))"
      ],
      "execution_count": 0,
      "outputs": []
    },
    {
      "cell_type": "code",
      "metadata": {
        "id": "8ujkwVf6HiQx",
        "colab_type": "code",
        "outputId": "eb20f7a5-cf21-4d63-f426-b3a830ca8c5f",
        "colab": {
          "base_uri": "https://localhost:8080/",
          "height": 353
        }
      },
      "source": [
        "from keras.layers import Dense, Dropout, Flatten, Conv1D, Input, MaxPooling1D\n",
        "from keras.models import Model\n",
        "from keras import models, layers\n",
        "from keras.callbacks import EarlyStopping, ModelCheckpoint\n",
        "from keras import backend as K\n",
        "K.clear_session()\n",
        "inputs = Input(shape=(8000,1))\n",
        "model = models.Sequential()\n",
        "model.add(layers.Conv1D(8, 13, padding = 'valid', activation = 'relu', input_shape =(8000,1)))\n",
        "model.add(layers.MaxPooling1D(3))\n",
        "model.add(layers.Dropout(0.3))\n",
        "model.add(layers.Flatten())\n",
        "model.add(layers.Dense(100, activation = 'relu'))\n",
        "model.add(layers.Dense(10, activation = 'softmax'))\n",
        "model.summary()"
      ],
      "execution_count": 15,
      "outputs": [
        {
          "output_type": "stream",
          "text": [
            "Model: \"sequential_1\"\n",
            "_________________________________________________________________\n",
            "Layer (type)                 Output Shape              Param #   \n",
            "=================================================================\n",
            "conv1d_1 (Conv1D)            (None, 7988, 8)           112       \n",
            "_________________________________________________________________\n",
            "max_pooling1d_1 (MaxPooling1 (None, 2662, 8)           0         \n",
            "_________________________________________________________________\n",
            "dropout_1 (Dropout)          (None, 2662, 8)           0         \n",
            "_________________________________________________________________\n",
            "flatten_1 (Flatten)          (None, 21296)             0         \n",
            "_________________________________________________________________\n",
            "dense_1 (Dense)              (None, 100)               2129700   \n",
            "_________________________________________________________________\n",
            "dense_2 (Dense)              (None, 10)                1010      \n",
            "=================================================================\n",
            "Total params: 2,130,822\n",
            "Trainable params: 2,130,822\n",
            "Non-trainable params: 0\n",
            "_________________________________________________________________\n"
          ],
          "name": "stdout"
        }
      ]
    },
    {
      "cell_type": "code",
      "metadata": {
        "id": "cJyt2xGqk7Sw",
        "colab_type": "code",
        "colab": {}
      },
      "source": [
        "model.compile(loss='categorical_crossentropy',optimizer='adam',metrics=['accuracy'])\n"
      ],
      "execution_count": 0,
      "outputs": []
    },
    {
      "cell_type": "code",
      "metadata": {
        "id": "DMa7w9crlBIM",
        "colab_type": "code",
        "colab": {}
      },
      "source": [
        "es = EarlyStopping(monitor='val_loss', mode='min', verbose=1, patience=10, min_delta=0.0001) \n",
        "mc = ModelCheckpoint('best_model.hdf5', monitor='val_acc', verbose=1, save_best_only=True, mode='max')"
      ],
      "execution_count": 0,
      "outputs": []
    },
    {
      "cell_type": "code",
      "metadata": {
        "id": "2ICXazJ5lCsU",
        "colab_type": "code",
        "outputId": "8c1bf337-3c48-4600-fb06-7e8363a4d056",
        "colab": {
          "base_uri": "https://localhost:8080/",
          "height": 423
        }
      },
      "source": [
        "history=model.fit(x_tr, y_tr ,epochs=10, callbacks=[es,mc], batch_size=10, validation_data=(x_val,y_val))"
      ],
      "execution_count": 18,
      "outputs": [
        {
          "output_type": "stream",
          "text": [
            "Train on 247 samples, validate on 83 samples\n",
            "Epoch 1/10\n",
            "247/247 [==============================] - 6s 25ms/step - loss: 2.3861 - accuracy: 0.1134 - val_loss: 2.3670 - val_accuracy: 0.1325\n",
            "Epoch 2/10\n",
            "190/247 [======================>.......] - ETA: 0s - loss: 1.9934 - accuracy: 0.4316"
          ],
          "name": "stdout"
        },
        {
          "output_type": "stream",
          "text": [
            "/usr/local/lib/python3.6/dist-packages/keras/callbacks/callbacks.py:707: RuntimeWarning: Can save best model only with val_acc available, skipping.\n",
            "  'skipping.' % (self.monitor), RuntimeWarning)\n"
          ],
          "name": "stderr"
        },
        {
          "output_type": "stream",
          "text": [
            "247/247 [==============================] - 0s 1ms/step - loss: 1.9986 - accuracy: 0.4089 - val_loss: 2.4448 - val_accuracy: 0.1566\n",
            "Epoch 3/10\n",
            "247/247 [==============================] - 0s 1ms/step - loss: 1.5909 - accuracy: 0.5830 - val_loss: 2.5186 - val_accuracy: 0.1928\n",
            "Epoch 4/10\n",
            "247/247 [==============================] - 0s 1ms/step - loss: 1.1242 - accuracy: 0.7449 - val_loss: 2.5170 - val_accuracy: 0.2048\n",
            "Epoch 5/10\n",
            "247/247 [==============================] - 0s 1ms/step - loss: 0.7214 - accuracy: 0.8947 - val_loss: 2.7916 - val_accuracy: 0.2048\n",
            "Epoch 6/10\n",
            "247/247 [==============================] - 0s 1ms/step - loss: 0.4634 - accuracy: 0.9150 - val_loss: 2.9162 - val_accuracy: 0.2530\n",
            "Epoch 7/10\n",
            "247/247 [==============================] - 0s 1ms/step - loss: 0.3017 - accuracy: 0.9595 - val_loss: 3.2741 - val_accuracy: 0.2169\n",
            "Epoch 8/10\n",
            "247/247 [==============================] - 0s 1ms/step - loss: 0.1970 - accuracy: 0.9798 - val_loss: 3.5806 - val_accuracy: 0.1928\n",
            "Epoch 9/10\n",
            "247/247 [==============================] - 0s 992us/step - loss: 0.1421 - accuracy: 0.9919 - val_loss: 3.6217 - val_accuracy: 0.2410\n",
            "Epoch 10/10\n",
            "247/247 [==============================] - 0s 958us/step - loss: 0.0956 - accuracy: 0.9960 - val_loss: 4.1529 - val_accuracy: 0.1566\n"
          ],
          "name": "stdout"
        }
      ]
    },
    {
      "cell_type": "code",
      "metadata": {
        "id": "acKTqzT3lH93",
        "colab_type": "code",
        "colab": {}
      },
      "source": [
        "#Clearly, the model is overfittting .. or maybe some other problems"
      ],
      "execution_count": 0,
      "outputs": []
    },
    {
      "cell_type": "code",
      "metadata": {
        "id": "-H2sZi8Mlphh",
        "colab_type": "code",
        "colab": {}
      },
      "source": [
        ""
      ],
      "execution_count": 0,
      "outputs": []
    }
  ]
}